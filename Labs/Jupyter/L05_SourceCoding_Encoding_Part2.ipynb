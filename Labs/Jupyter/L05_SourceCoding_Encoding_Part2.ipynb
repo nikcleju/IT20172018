{
 "cells": [
  {
   "cell_type": "markdown",
   "metadata": {},
   "source": [
    "# Information Theory Lab 05: Source Coding,  Part I: Encoding --- Episode 2\n",
    "\n",
    "## About\n",
    "\n",
    "This file is designed to be viewed and run online in a browser.\n",
    "\n",
    "This file is a Jupyter Notebook file usign `xeus-cling`, a Jupyter kernel for C++ based on the `cling` C++ interpreter and the `xeus` native implementation of the Jupyter protocol, xeus.\n",
    "\n",
    "- GitHub repository: https://github.com/jupyter-xeus/xeus-cling/\n",
    "- Online documentation: https://xeus-cling.readthedocs.io/ \n",
    "\n",
    "<!-- <img src=\"images/xeus-cling.png\" alt=\"xeus-cling logo\" style=\"width: 100px;\"/> -->"
   ]
  },
  {
   "cell_type": "markdown",
   "metadata": {},
   "source": [
    "## Usage\n",
    "\n",
    "To run a selected code cell:\n",
    "\n",
    "- Ctrl  + Enter = Run cell and remain at current cell\n",
    "- Shift + Enter = Run cell and advance to next cell\n",
    "\n",
    "<!--\n",
    "<div style=\"background: #efffed;\n",
    "            border: 1px solid grey;\n",
    "            margin: 8px 0 8px 0;\n",
    "            text-align: center;\n",
    "            padding: 8px; \">\n",
    "    <i class=\"fa-play fa\" \n",
    "       style=\"font-size: 40px;\n",
    "              line-height: 40px;\n",
    "              margin: 8px;\n",
    "              color: #444;\">\n",
    "    </i>\n",
    "    <div>\n",
    "    To run the selected code cell, hit <pre style=\"background: #efffed\">Shift + Enter</pre>\n",
    "    </div>\n",
    "</div>\n",
    "-->\n",
    "<br>"
   ]
  },
  {
   "cell_type": "markdown",
   "metadata": {},
   "source": [
    "## 1. Objective\n",
    "\n",
    "Understand linear block codes by implementing a basic encoding application.\n"
   ]
  },
  {
   "cell_type": "markdown",
   "metadata": {},
   "source": [
    "## 2. Encoding data\n",
    "\n",
    "First let's define in all place all the useful macros developed last week."
   ]
  },
  {
   "cell_type": "code",
   "execution_count": null,
   "metadata": {},
   "outputs": [],
   "source": [
    "#define READ_BIT(x,i)       (int)(((x) & (1U << (i))) != 0)                                 /* read bit i from x */\n",
    "#define SET_BIT(x,i)        ((x) = (x) | (1U << (i)))                                       /* set bit i from x to 1 */\n",
    "#define CLEAR_BIT(x,i)      ((x) = (x) & ~(1U << (i)))                                      /* clear bit i from x to 0 */\n",
    "#define WRITE_BIT(x,i,val)  ((val) ? SET_BIT((x),(i)) : CLEAR_BIT((x),(i)))                 /* write 'val' in bit i from x */\n",
    "#define TOGGLE_BIT(x,i)     ((x) = (x) ^ (1U << (i)))                                       /* toggle bit i from x */\n",
    "#define VECREAD_BIT(v,i)       (READ_BIT((v[(i)/8]),(i)%8))                                 /* read bit i from byte vector v */\n",
    "#define VECWRITE_BIT(v,i,val)  (WRITE_BIT((v[(i)/8]),((i)%8),val))                          /* write 'val' in bit i from byte vector v */"
   ]
  },
  {
   "cell_type": "markdown",
   "metadata": {},
   "source": [
    "### Reading codewords table\n",
    "\n",
    "In these labs, a codeword is defined using the following structure data type:\n",
    "```\n",
    "typedef struct \n",
    "{\n",
    "    int len;                /* length of code, in bits */\n",
    "    unsigned long code;     /* the first \"len\" bits are the codeword */\n",
    "} CODE32BIT;\n",
    "```"
   ]
  },
  {
   "cell_type": "markdown",
   "metadata": {},
   "source": [
    "All the codewords are available as a vector in file `codero.dat`. We can read such a vector with `fread()`, as follows"
   ]
  },
  {
   "cell_type": "code",
   "execution_count": null,
   "metadata": {},
   "outputs": [],
   "source": [
    "// Define the structure type\n",
    "typedef struct \n",
    "{\n",
    "    int len;                /* length of code, in bits */\n",
    "    unsigned int code;     /* the first \"len\" bits are the codeword */\n",
    "} CODE32BIT;\n",
    "\n",
    "// Define a vector of 256 codewords, one for each ASCII character\n",
    "CODE32BIT cb[256];\n",
    "\n",
    "// Open the file\n",
    "FILE* f = fopen(\"codero.dat\", \"rb\");\n",
    "\n",
    "// Read the vector from the file\n",
    "fread(&cb[0], sizeof(CODE32BIT), 256, f);   // Read from f, 256 elements, each of size \"sizeof(CODE32BIT)\" bytes, and place them in cb\n",
    "\n",
    "fclose(f);\n",
    "//sizeof(unsigned int)"
   ]
  },
  {
   "cell_type": "markdown",
   "metadata": {},
   "source": [
    "From the structure definition we see that each codeword element has two components:\n",
    "- `len`: length of the codeword (number of bits)\n",
    "- `code`: the actual bits of the codeword (only the first `len` bits are written)\n",
    "\n",
    "Let's check the codeword for letter `a`, which is `cb[97]` (ASCII code of 'a is 97).\n",
    "\n",
    "The codeword has length:"
   ]
  },
  {
   "cell_type": "code",
   "execution_count": null,
   "metadata": {},
   "outputs": [],
   "source": [
    "cb['a'].len    // instead of its code 97 we can use directly char 'a' "
   ]
  },
  {
   "cell_type": "markdown",
   "metadata": {},
   "source": [
    "The bits in `a`'s codeword  are:"
   ]
  },
  {
   "cell_type": "code",
   "execution_count": null,
   "metadata": {},
   "outputs": [],
   "source": [
    "READ_BIT(cb['a'].code, 0)  // First bit"
   ]
  },
  {
   "cell_type": "code",
   "execution_count": null,
   "metadata": {},
   "outputs": [],
   "source": [
    "READ_BIT(cb['a'].code, 1)  // Second bit"
   ]
  },
  {
   "cell_type": "code",
   "execution_count": null,
   "metadata": {},
   "outputs": [],
   "source": [
    "READ_BIT(cb['a'].code, 2) // Third bit"
   ]
  },
  {
   "cell_type": "markdown",
   "metadata": {},
   "source": [
    "### Print all codewords\n",
    "\n",
    "Let's print all codewords, one codeword per line, like thid:\n",
    "```\n",
    "a (97): 001\n",
    "b (98): 01011\n",
    "...\n",
    "```"
   ]
  },
  {
   "cell_type": "code",
   "execution_count": null,
   "metadata": {
    "tags": []
   },
   "outputs": [],
   "source": [
    "// Go through all characters\n",
    "\n",
    "for (int i=20; i < 256; i++)\n",
    "{\n",
    "    // Print the codeword for character with code i\n",
    "    //\n",
    "    // cb[i].len  = the length of the codeword\n",
    "    // cb[i].code = contains the bits\n",
    "    //\n",
    "    // TODO: write below\n",
    "    \n",
    "\n",
    "}\n",
    "printf(\"Salut\");"
   ]
  },
  {
   "cell_type": "markdown",
   "metadata": {},
   "source": [
    "### Encoding procedure"
   ]
  },
  {
   "cell_type": "markdown",
   "metadata": {},
   "source": [
    "For encoding a sequence of letters, we simply write the codeword of every letter into an output vector.\n",
    "\n",
    "#### **Exercise**: encode a sentence\n",
    "\n",
    "Encode the sentence *\"Humpty-Dumpty sat on a wall\"*, and write the binary output sequence in the vector `vec`.\n",
    "\n",
    "Questions: \n",
    "  - how many bits did we use? \n",
    "  - how many bits would be used if we encode the letters with ASCII code (8 bits / letter)? \n",
    "  - what is the compression ration achieved with this code? "
   ]
  },
  {
   "cell_type": "code",
   "execution_count": null,
   "metadata": {},
   "outputs": [],
   "source": [
    "const char* s = \"Humpty-Dumpty sat on a wall\";          // the input sequence\n",
    "unsigned char vec[1000];                                // output vector for holding the bits\n",
    "\n",
    "// TODO: write here\n",
    "\n",
    "\n",
    "// Let's look at the vector vec\n",
    "vec"
   ]
  },
  {
   "cell_type": "markdown",
   "metadata": {},
   "source": [
    "#### **Exercise**: encode a file\n",
    "\n",
    "Read a text file and encode every byte (character), writing the binary output sequence in the vector `vec`. We reuse the code from the previous labs in order to open the file and read every byte.\n"
   ]
  },
  {
   "cell_type": "code",
   "execution_count": null,
   "metadata": {
    "scrolled": true,
    "tags": []
   },
   "outputs": [],
   "source": [
    "const char* filename = \"textro.txt\";    // the text file to encode\n",
    "unsigned char vec[1000000];             // one milion bytes, holds up to 1MB of data\n",
    "unsigned char c;\n",
    "\n",
    "// Open file, for reading (\"rb\")\n",
    "FILE* f = fopen(filename, \"rb\");  \n",
    "    \n",
    "// (TODO: check if it actually opened)\n",
    "\n",
    "// Read every character, stop when fread() returns 0 \n",
    "while( fread(&c, 1, 1, f) )\n",
    "{\n",
    "    // Next character is in c, write its codeword in vector vec\n",
    "    //\n",
    "    // TODO: write here\n",
    "\n",
    "\n",
    "    \n",
    "    \n",
    "}\n",
    "// We're done with the file\n",
    "fclose(f);\n",
    "\n",
    "// Let's look at the vector vec (it might take a while)\n",
    "vec"
   ]
  },
  {
   "cell_type": "markdown",
   "metadata": {},
   "source": [
    "### Writing the encoded bit sequence to an output file\n",
    "\n",
    "Finally, once we have all the bits in the vector `vec`, let's write the data into an output file.\n",
    "\n",
    "From the encoding above, we need **the total number of bits written**. Let's call this `len`. We save the data as follows:\n",
    "1. Open the output file with `fopen()`, for writing in binary mode\n",
    "2. Write the integer `len`, using `fwrite()`\n",
    "3. Write the vector `vec` using `fwrite()`, but only the bytes actually written (number of bytes to write = `ceil (len/8)`)\n",
    "4. Close the file"
   ]
  },
  {
   "cell_type": "code",
   "execution_count": null,
   "metadata": {},
   "outputs": [],
   "source": [
    "// int len = the total number of bits written in the vector vec\n",
    "\n",
    "FILE* f = fopen(\"textroencoded.enc\", \"wb\");                // open file\n",
    "fwrite(&len, sizeof(len), 1, f);                           // write len\n",
    "fwrite(vec, sizeof(unsigned char), ceil(len/8), f);        // write the encoded bitstring, only the actual written bytes ceil(len/8)\n",
    "fclose(f);                                                 // close file                 "
   ]
  },
  {
   "cell_type": "markdown",
   "metadata": {},
   "source": [
    "## 3. Final Exercises\n",
    "\n",
    "\n",
    "1. Put everything into a dedicated program `encode.c`, to encode every byte from a given data file.\n",
    "\n",
    "   The program shall be called as follows: \n",
    "\n",
    "   `encode.exe codero.dat input.txt output.txt`\n",
    "    \n",
    "   The arguments are:\n",
    "      - `code.dat`: a file containing the code to be used (known as the \"codebook\" file)\n",
    "      - `input.txt`: the file to encode\n",
    "      - `output.txt`: the output (encoded) file\n",
    "   \n",
    "   <br>\n",
    "   The codebook file contains a vector of 256 elements of the following structure type:\n",
    "   \n",
    "   <br>\n",
    "   \n",
    "        typedef struct \n",
    "        {\n",
    "            int len;                /* length of code, in bits */\n",
    "            unsigned long code;     /* the first \"len\" bits are the codeword */\n",
    "        } CODE32BIT;\n",
    "   <br>\n",
    "   \n",
    "   The program will follow the following steps:\n",
    "   \n",
    "    - Allocate an array named `out` of `unsigned char` of max size 10MB (i.e. 10000000 bytes);\n",
    "    - Open and read the full vector from the codebook file;\n",
    "    - Then, open the input file and read every byte in a loop. For each byte do the following:\n",
    "    \n",
    "        - Write the codeword for the byte, bit by bit, in the `out` vector. Use the `VECWRITE_BIT()` macro\n",
    "        \n",
    "        - Keep track of the number of bits written, in order to continue writing from where the previous codeword stopped.\n",
    "        \n",
    "        \n",
    "    - Write the array `out` to the output file, as follows:\n",
    "    \n",
    "        - Open the output file for writing\n",
    "        \n",
    "        - Write first the total number of bits\n",
    "        - Write afterwards the vector `out`, but only the number of bytes actually used for coding\n",
    "        - *Note: when decoding the file, we will read back the data in the same order*.\n",
    "\n",
    "2. Encode the file `textro.txt` with the provided codebook `codero.dat`. Check the size of the output file and compute the compression ratio.\n",
    "\n",
    "3. Repeat 2. for `texten.txt` with codebook `codeen.dat`.\n",
    "\n",
    "4. Encode a file with the codebook from the other language. Check the size of the output file and compute the compression ratio. Compare\n",
    "with the one using the same language codebook. Which case is better?"
   ]
  },
  {
   "cell_type": "markdown",
   "metadata": {},
   "source": [
    "## 4. Final questions\n",
    "\n",
    "1. TBD"
   ]
  }
 ],
 "metadata": {
  "kernelspec": {
   "display_name": "C++14",
   "language": "C++14",
   "name": "xcpp14"
  },
  "language_info": {
   "codemirror_mode": "text/x-c++src",
   "file_extension": ".cpp",
   "mimetype": "text/x-c++src",
   "name": "c++",
   "version": "14"
  }
 },
 "nbformat": 4,
 "nbformat_minor": 4
}
