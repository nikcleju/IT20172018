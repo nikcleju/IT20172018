{
 "cells": [
  {
   "cell_type": "markdown",
   "metadata": {},
   "source": [
    "# Information Theory Lab 06: Source Coding,  Part II: Decoding\n",
    "\n",
    "## About\n",
    "\n",
    "This file is designed to be viewed and run online in a browser.\n",
    "\n",
    "This file is a Jupyter Notebook file usign `xeus-cling`, a Jupyter kernel for C++ based on the `cling` C++ interpreter and the `xeus` native implementation of the Jupyter protocol, xeus.\n",
    "\n",
    "- GitHub repository: https://github.com/jupyter-xeus/xeus-cling/\n",
    "- Online documentation: https://xeus-cling.readthedocs.io/ \n",
    "\n",
    "<!-- <img src=\"images/xeus-cling.png\" alt=\"xeus-cling logo\" style=\"width: 100px;\"/> -->"
   ]
  },
  {
   "cell_type": "markdown",
   "metadata": {},
   "source": [
    "## Usage\n",
    "\n",
    "To run a selected code cell:\n",
    "\n",
    "- Ctrl  + Enter = Run cell and remain at current cell\n",
    "- Shift + Enter = Run cell and advance to next cell\n",
    "\n",
    "<!--\n",
    "<div style=\"background: #efffed;\n",
    "            border: 1px solid grey;\n",
    "            margin: 8px 0 8px 0;\n",
    "            text-align: center;\n",
    "            padding: 8px; \">\n",
    "    <i class=\"fa-play fa\" \n",
    "       style=\"font-size: 40px;\n",
    "              line-height: 40px;\n",
    "              margin: 8px;\n",
    "              color: #444;\">\n",
    "    </i>\n",
    "    <div>\n",
    "    To run the selected code cell, hit <pre style=\"background: #efffed\">Shift + Enter</pre>\n",
    "    </div>\n",
    "</div>\n",
    "-->\n",
    "<br>"
   ]
  },
  {
   "cell_type": "markdown",
   "metadata": {},
   "source": [
    "## Objective\n",
    "\n",
    "Understand source coding by implementing a basic encoding application.\n"
   ]
  },
  {
   "cell_type": "markdown",
   "metadata": {},
   "source": [
    "## Decoding data with instantaneous codes\n",
    "\n",
    "First let's define in one place all the macros needed for working with bits."
   ]
  },
  {
   "cell_type": "code",
   "execution_count": null,
   "metadata": {},
   "outputs": [],
   "source": [
    "#define READ_BIT(x,i)       (int)(((x) & (1U << (i))) != 0)                                 /* read bit i from x */\n",
    "#define SET_BIT(x,i)        ((x) = (x) | (1U << (i)))                                       /* set bit i from x to 1 */\n",
    "#define CLEAR_BIT(x,i)      ((x) = (x) & ~(1U << (i)))                                      /* clear bit i from x to 0 */\n",
    "#define WRITE_BIT(x,i,val)  ((val) ? SET_BIT((x),(i)) : CLEAR_BIT((x),(i)))                 /* write 'val' in bit i from x */\n",
    "#define TOGGLE_BIT(x,i)     ((x) = (x) ^ (1U << (i)))                                       /* toggle bit i from x */\n",
    "#define VECREAD_BIT(v,i)       (READ_BIT((v[(i)/8]),(i)%8))                                 /* read bit i from byte vector v */\n",
    "#define VECWRITE_BIT(v,i,val)  (WRITE_BIT((v[(i)/8]),((i)%8),val))                          /* write 'val' in bit i from byte vector v */"
   ]
  },
  {
   "cell_type": "markdown",
   "metadata": {},
   "source": [
    "### Reminder: Reading codewords table\n",
    "\n",
    "In these labs, a codeword is defined using the following structure data type:\n",
    "```\n",
    "typedef struct \n",
    "{\n",
    "    int len;                /* length of code, in bits */\n",
    "    unsigned long code;     /* the first \"len\" bits are the codeword */\n",
    "} CODE32BIT;\n",
    "```"
   ]
  },
  {
   "cell_type": "markdown",
   "metadata": {},
   "source": [
    "All the codewords are available as a vector in file `codero.dat`. We can read such a vector with `fread()`, as follows:"
   ]
  },
  {
   "cell_type": "code",
   "execution_count": null,
   "metadata": {},
   "outputs": [],
   "source": [
    "// Define the structure type\n",
    "typedef struct \n",
    "{\n",
    "    int len;                /* length of code, in bits */\n",
    "    unsigned int code;     /* the first \"len\" bits are the codeword */\n",
    "} CODE32BIT;\n",
    "\n",
    "// Define a vector of 256 codewords, one for each ASCII character\n",
    "CODE32BIT cb[256];\n",
    "\n",
    "// Open the file\n",
    "FILE* f = fopen(\"codero.dat\", \"rb\");\n",
    "\n",
    "// Read the vector from the file\n",
    "fread(&cb[0], sizeof(CODE32BIT), 256, f);   // Read from f, 256 elements, each of size \"sizeof(CODE32BIT)\" bytes, and place them in cb\n",
    "\n",
    "fclose(f);\n",
    "//sizeof(unsigned int)"
   ]
  },
  {
   "cell_type": "markdown",
   "metadata": {},
   "source": [
    "From the structure definition we see that each codeword element has two components:\n",
    "- `len`: length of the codeword (number of bits)\n",
    "- `code`: the actual bits of the codeword (only the first `len` bits are written)\n",
    "\n",
    "Let's check the codeword for letter `a`, which is `cb[97]` (ASCII code of 'a is 97).\n",
    "\n",
    "The codeword has length:"
   ]
  },
  {
   "cell_type": "code",
   "execution_count": null,
   "metadata": {},
   "outputs": [],
   "source": [
    "cb['a'].len    // instead of its code 97 we can use directly char 'a' "
   ]
  },
  {
   "cell_type": "markdown",
   "metadata": {},
   "source": [
    "The bits in `a`'s codeword  are:"
   ]
  },
  {
   "cell_type": "code",
   "execution_count": null,
   "metadata": {},
   "outputs": [],
   "source": [
    "READ_BIT(cb['a'].code, 0)  // First bit"
   ]
  },
  {
   "cell_type": "code",
   "execution_count": null,
   "metadata": {},
   "outputs": [],
   "source": [
    "READ_BIT(cb['a'].code, 1)  // Second bit"
   ]
  },
  {
   "cell_type": "code",
   "execution_count": null,
   "metadata": {},
   "outputs": [],
   "source": [
    "READ_BIT(cb['a'].code, 2) // Third bit"
   ]
  },
  {
   "cell_type": "markdown",
   "metadata": {},
   "source": [
    "### Reminder: Print all codewords\n",
    "\n",
    "Let's print all codewords, one codeword per line, like this:\n",
    "```\n",
    "a (97): 001\n",
    "b (98): 01011\n",
    "...\n",
    "```\n",
    "\n",
    "Printing character with code 128 seems to crash the environment. We'll stop the printing before character 128."
   ]
  },
  {
   "cell_type": "code",
   "execution_count": null,
   "metadata": {
    "tags": []
   },
   "outputs": [],
   "source": [
    "// Go through all characters\n",
    "\n",
    "for (int i=0; i < 128; i++) // bug at 128 \n",
    "{\n",
    "    // Print the codeword for character with code i\n",
    "    //\n",
    "    // cb[i].len  = the length of the codeword\n",
    "    // cb[i].code = contains the bits\n",
    "    //\n",
    "    // TODO: write below\n",
    "    printf(\"%c (%d): \", i, i); \n",
    "    for (int j=0; j < cb[i].len; j++)\n",
    "    {\n",
    "        printf(\"%d\" ,READ_BIT(cb[i].code, j));\n",
    "    }\n",
    "printf(\"\\n\");\n",
    "}"
   ]
  },
  {
   "cell_type": "markdown",
   "metadata": {},
   "source": [
    "### Decoding procedure for instantaneous codes"
   ]
  },
  {
   "cell_type": "markdown",
   "metadata": {},
   "source": [
    "Decoding means the following starting from a sequence of bits (encoded), figure out what messages are there.\n",
    "\n",
    "For instantaneous codes, it is easy, based on the following property: **there is a single codeword which matches perfectly the beginning of the binary sequence**.\n",
    "\n",
    "We'll use the decoding procedure:\n",
    " 1. Find the codeword which matches perfectly the beginning of the binary sequence. This is the first message.\n",
    " 2. Advance to the remaining part of the sequence and go to step 1.\n",
    "\n",
    "The decoded characters shall be written in a separate text file.\n",
    "\n",
    "#### **Exercise**: decode first character\n",
    "\n",
    "Decode the first character in the binary sequence available in vector `vec`:\n"
   ]
  },
  {
   "cell_type": "code",
   "execution_count": null,
   "metadata": {},
   "outputs": [],
   "source": [
    "unsigned char vec[1000] = {253, '\\154', '\\160', '6', '\\0', '\\0'};        // the encoded binary sequence\n",
    "\n",
    "// TODO: write here, print the character\n",
    "for ( ... )\n",
    "{\n",
    "\n",
    "\n",
    "\n",
    "\n",
    "}"
   ]
  },
  {
   "cell_type": "markdown",
   "metadata": {},
   "source": [
    "#### **Exercise**: decode the first 5 characters\n",
    "\n",
    "Now go on and decode the first 5 character in the same binary sequence:"
   ]
  },
  {
   "cell_type": "code",
   "execution_count": null,
   "metadata": {
    "tags": []
   },
   "outputs": [],
   "source": [
    "unsigned char vec[1000] = {253, '\\154', '\\160'};        // the encoded binary sequence\n",
    "\n",
    "// TODO: write here, print the first 5 characters\n",
    "\n",
    "\n",
    "\n"
   ]
  },
  {
   "cell_type": "markdown",
   "metadata": {},
   "source": [
    "### Loading a binary sequence from a file and decode it\n",
    "\n",
    "We shall load a binary sequence from an encoded file from last week, *\"output.enc\"*, and decode it.\n",
    "\n",
    "Remember from last week that we saved two things in the file:\n",
    " - First we wrote an integer specifying how many bits we actually used\n",
    " - Afterwards we wrote the full data vector\n",
    "\n",
    "Now we shall read the data back, in the same order:\n",
    "  - First we read an integer, specifying how many bits are actually used\n",
    "  - Afterwards we read the full data vector\n",
    "\n",
    "The full procedure is as follows::\n",
    "1. Open the input encoded file with `fopen()`, for reading in binary mode\n",
    "2. Read an integer `len`, using `fread()`\n",
    "3. Read a vector `vec` using `fread()`\n",
    "4. Close the file"
   ]
  },
  {
   "cell_type": "code",
   "execution_count": null,
   "metadata": {},
   "outputs": [],
   "source": [
    "// Load a binary sequence from a file\n",
    "\n",
    "unsigned char vec[1000000];                                // define a vector to hold the data we read\n",
    "int len;                                                   // will hold the total number of bits used from the vector\n",
    "\n",
    "FILE* f = fopen(\"output.enc\", \"rb\");                       // open file\n",
    "fread(&len, sizeof(int), 1, f);                            // read one integer, place it in len\n",
    "fread(vec, sizeof(unsigned char), 1000000, f);             // read the encoded bitstring, up to 1000000 bytes. fopen() will stop when it reaches the file end.\n",
    "fclose(f);                                                 // close file                 "
   ]
  },
  {
   "cell_type": "markdown",
   "metadata": {},
   "source": [
    "Now, let's decode the sequence using the same procedure. Stop when you have processed `len` bits from the vector (i.e. only the amount which were actually encoded). Print the decoded characters, and also save them in a vector `decoded`."
   ]
  },
  {
   "cell_type": "code",
   "execution_count": null,
   "metadata": {
    "scrolled": true,
    "tags": []
   },
   "outputs": [],
   "source": [
    "// Decode all the loaded sequence\n",
    "\n",
    "char decoded[1000000];                            // place the decoded characters in here\n",
    "\n",
    "// TODO: decode the sequence in 'vec', print the decoded characters \n",
    "//       and also save them in vector `decoded`\n",
    "\n",
    "\n",
    "\n",
    "\n"
   ]
  },
  {
   "cell_type": "markdown",
   "metadata": {},
   "source": [
    "Finally, let's write the decoded characters from vector `decoded` into an output file called `decoded_ro.txt`:\n",
    "  1. Open the file for writing in binary mode\n",
    "  2. Write all the vector `decoded` there\n",
    "  3. Close the file"
   ]
  },
  {
   "cell_type": "code",
   "execution_count": null,
   "metadata": {},
   "outputs": [],
   "source": [
    "// TODO: write here\n",
    "\n",
    "f = fopen( ... );\n",
    "fwrite( ... );\n",
    "fclose(f);"
   ]
  },
  {
   "cell_type": "markdown",
   "metadata": {},
   "source": [
    "## 3. Final Exercises\n",
    "\n",
    "\n",
    "1. Put everything into a dedicated program `decode.c`, to decode an encoded file from last week.\n",
    "\n",
    "   The program shall be called as follows: \n",
    "\n",
    "   `decode.exe code.dat input.enc decoded.txt`\n",
    "    \n",
    "   The arguments are:\n",
    "      - `code.dat`: a file containing the code to be used (known as the \"codebook\" file)\n",
    "      - `input.enc`: the file to decode, obtained with the encoding application from last week\n",
    "      - `decoded.txt`: the output decoded file\n",
    "   \n",
    "   The program will follow the following steps:\n",
    "   \n",
    "    1. Read the full vector from the codebook file;\n",
    "    2. Read the full input encoded file, in the same order as we wrote the data last week:\n",
    "        - read first an integer\n",
    "        - then read everything else into an array `vec` of type `unsigned char`, of max size 1MB (i.e. 1.000.000 bytes);\n",
    "    3. Decode the characters from the `vec` array, as follows:\n",
    "         \n",
    "           While we haven't processed all bits\n",
    "             - Check all codewords and see which one matches the next bits;\n",
    "             - When you find the codeword, print that character and write it into a decoded vector\n",
    "             - Advance in the `data` array with the size of the matched codeword;\n",
    "\n",
    "    4. Save the decoded character vector in the output file.\n",
    "    \n",
    "2. Decode the file `output.enc` with the provided codebook `codero.dat`. \n",
    "Open the output and check that the data is recovered correctly.\n",
    "Check the size of the input and output files and compute the compression ratio.\n",
    "\n",
    "3. Encode and decode again the English text, with the English codebook `codeen.dat`.\n",
    "\n",
    "4. Decode a file with the codebook from the other language. How does the output look like?\n",
    "\n",
    "5. Open an encoded file and randomly make an error (for example, delete one character). Then attempt to decode it.\n",
    "How does the error affect the decoded output?"
   ]
  },
  {
   "cell_type": "markdown",
   "metadata": {},
   "source": [
    "## 4. Final questions\n",
    "\n",
    "1. TBD"
   ]
  }
 ],
 "metadata": {
  "kernelspec": {
   "display_name": "C++14",
   "language": "C++14",
   "name": "xcpp14"
  },
  "language_info": {
   "codemirror_mode": "text/x-c++src",
   "file_extension": ".cpp",
   "mimetype": "text/x-c++src",
   "name": "c++",
   "version": "14"
  }
 },
 "nbformat": 4,
 "nbformat_minor": 4
}
